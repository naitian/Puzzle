{
 "cells": [
  {
   "cell_type": "code",
   "execution_count": 4,
   "metadata": {
    "collapsed": true
   },
   "outputs": [],
   "source": [
    "import itertools"
   ]
  },
  {
   "cell_type": "code",
   "execution_count": 35,
   "metadata": {
    "collapsed": true
   },
   "outputs": [],
   "source": [
    "RED = 'r'\n",
    "MULTI = 'm'\n",
    "YELLOW = 'y'\n",
    "BLUE  = 'b'\n",
    "HEAD = 'h'\n",
    "TAIL = 't'\n",
    "\n",
    "pieces = (\n",
    "    ('rt', 'yh', 'bt', 'mt'),\n",
    "    ('mt', 'bh', 'yh', 'yt'),\n",
    "    ('mt', 'yh', 'rh', 'bt'),\n",
    "    ('mh', 'rh', 'bh', 'bt'),\n",
    "    ('yt', 'mh', 'bh', 'rt'),\n",
    "    ('rt', 'yt', 'bt', 'mt'),\n",
    "    ('bh', 'mt', 'yh', 'rh'),\n",
    "    ('bt', 'rh', 'yh', 'mh'),\n",
    "    ('bh', 'mt', 'yh', 'rt')\n",
    ")\n"
   ]
  },
  {
   "cell_type": "code",
   "execution_count": 36,
   "metadata": {},
   "outputs": [],
   "source": [
    "def generateMap(pieces):\n",
    "    piecemap = {\n",
    "        'rt': [],\n",
    "        'mt': [],\n",
    "        'yt': [],\n",
    "        'bt': [],\n",
    "        'rh': [],\n",
    "        'mh': [],\n",
    "        'yh': [],\n",
    "        'bh': []\n",
    "    }\n",
    "    for piece in pieces:\n",
    "        for part in piece:\n",
    "            piecemap[part].append(piece)\n",
    "    return piecemap"
   ]
  },
  {
   "cell_type": "code",
   "execution_count": 28,
   "metadata": {},
   "outputs": [
    {
     "name": "stdout",
     "output_type": "stream",
     "text": [
      "('rt', 'yh', 'bt', 'mt')\n",
      "right match\n",
      "('mt', 'bh', 'yh', 'yt')\n",
      "right match\n",
      "('mt', 'yh', 'rh', 'bt')\n",
      "('mh', 'rh', 'bh', 'bt')\n",
      "right match\n",
      "('yt', 'mh', 'bh', 'rt')\n",
      "top match\n",
      "right match\n",
      "('rt', 'yt', 'bt', 'mt')\n",
      "top match\n",
      "('bh', 'mt', 'yh', 'rh')\n",
      "right match\n",
      "('bt', 'rh', 'yh', 'mh')\n",
      "top match\n",
      "right match\n",
      "('bh', 'mt', 'yh', 'rt')\n",
      "top match\n"
     ]
    },
    {
     "data": {
      "text/plain": [
       "10.0"
      ]
     },
     "execution_count": 28,
     "metadata": {},
     "output_type": "execute_result"
    }
   ],
   "source": [
    "for piece in pieces:\n",
    "    solution = [0, 0, 0, 0, piece, 0, 0, 0, 0]\n",
    "    current = piece\n",
    "    \n",
    "    "
   ]
  },
  {
   "cell_type": "code",
   "execution_count": null,
   "metadata": {
    "collapsed": true
   },
   "outputs": [],
   "source": []
  }
 ],
 "metadata": {
  "kernelspec": {
   "display_name": "Python 3",
   "language": "python",
   "name": "python3"
  },
  "language_info": {
   "codemirror_mode": {
    "name": "ipython",
    "version": 3
   },
   "file_extension": ".py",
   "mimetype": "text/x-python",
   "name": "python",
   "nbconvert_exporter": "python",
   "pygments_lexer": "ipython3",
   "version": "3.6.0"
  }
 },
 "nbformat": 4,
 "nbformat_minor": 2
}
